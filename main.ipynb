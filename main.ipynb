{
 "cells": [
  {
   "cell_type": "code",
   "execution_count": null,
   "id": "ff15292e",
   "metadata": {},
   "outputs": [],
   "source": [
    "from scripts.extract import extract_features\n",
    "from scripts.transform_cleaned import transform_cleaned_data\n",
    "from scripts.transform_summary import transform_summary_data\n",
    "from scripts.create_table import create_table\n",
    "from scripts.load import load_car\n",
    "from utils.logger import setup_logger\n",
    "# ------------------------------------------------------------------------------\n",
    "# Initialize logger\n",
    "logger = setup_logger(__name__)"
   ]
  },
  {
   "cell_type": "code",
   "execution_count": null,
   "id": "175b56c9",
   "metadata": {},
   "outputs": [],
   "source": [
    "logger.info(\"Starting ETL pipeline...\")\n",
    "# ------------------------------------------------------------------------------\n",
    "logger.info('Strat Extracting data...')\n",
    "extract_features(r'data/raw/BMW_sales_data_(2010-2024).csv')\n",
    "logger.info('Finished Extracting data...')\n",
    "# ------------------------------------------------------------------------------\n",
    "logger.info('Start Transforming data...')\n",
    "transform_cleaned_data(r'data/raw/BMW_sales_data_(2010-2024).csv', r'data/processed/car_cleaned.csv')\n",
    "transform_summary_data(r'data/processed/car_cleaned.csv', r'data/processed/car_summary.csv')\n",
    "logger.info('Finished Transforming data.')\n",
    "# ------------------------------------------------------------------------------\n",
    "logger.info('Start Loading data...')\n",
    "# ------------------------------------------------------------------------------\n",
    "logger.info('Start create table...')\n",
    "create_table('data/db/bmw_seller.db')\n",
    "logger.info('Finished create table.')\n",
    "# ------------------------------------------------------------------------------\n",
    "logger.info('Start load data...')\n",
    "load_car(r'data/processed/car_cleaned.csv', 'cars_cleaned', r'data/db/bmw_seller.db')\n",
    "load_car(r'data/processed/car_summary.csv', 'sales_summary', r'data/db/bmw_seller.db')\n",
    "logger.info('Finished load data.')\n",
    "\n",
    "print(\"ETL pipeline completed.\")"
   ]
  }
 ],
 "metadata": {
  "kernelspec": {
   "display_name": "myenv",
   "language": "python",
   "name": "python3"
  },
  "language_info": {
   "codemirror_mode": {
    "name": "ipython",
    "version": 3
   },
   "file_extension": ".py",
   "mimetype": "text/x-python",
   "name": "python",
   "nbconvert_exporter": "python",
   "pygments_lexer": "ipython3",
   "version": "3.13.5"
  }
 },
 "nbformat": 4,
 "nbformat_minor": 5
}
