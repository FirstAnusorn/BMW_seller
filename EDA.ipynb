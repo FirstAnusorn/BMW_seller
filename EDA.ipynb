{
 "cells": [
  {
   "cell_type": "code",
   "execution_count": null,
   "id": "27fc0148",
   "metadata": {},
   "outputs": [],
   "source": [
    "from matplotlib import pyplot as plt\n",
    "import pandas as pd\n",
    "\n",
    "df = pd.read_csv(r'data/processed/car_summary.csv')"
   ]
  },
  {
   "cell_type": "markdown",
   "id": "e948d737",
   "metadata": {},
   "source": [
    "Total Sales Volume by Region"
   ]
  },
  {
   "cell_type": "code",
   "execution_count": null,
   "id": "eb8aceaf",
   "metadata": {},
   "outputs": [],
   "source": [
    "region_sales = df.groupby('Region')['Total_Sales_Volume'].sum().sort_values()\n",
    "\n",
    "plt.figure(figsize=(15,6))\n",
    "bars = plt.barh(region_sales.index, region_sales.values, color='skyblue')\n",
    "plt.xlabel('Total Sales Volume')\n",
    "plt.title('Total Sales Volume by Region')\n",
    "for bar in bars:\n",
    "    plt.text(bar.get_width(), bar.get_y() + bar.get_height()/2, f'{int(bar.get_width()):,}', va='center')\n",
    "plt.tight_layout()\n",
    "\n",
    "plt.savefig('dashboards/Region_Sales.png', bbox_inches='tight')\n",
    "plt.show()"
   ]
  },
  {
   "cell_type": "markdown",
   "id": "2e5431af",
   "metadata": {},
   "source": [
    "Average Price Trend Over Years"
   ]
  },
  {
   "cell_type": "code",
   "execution_count": null,
   "id": "5b77c21c",
   "metadata": {},
   "outputs": [],
   "source": [
    "average_price = df.groupby('Year')['Average_Price_USD'].mean()\n",
    "plt.figure(figsize=(10,6))\n",
    "\n",
    "plt.plot(average_price.index, average_price.values, marker='o', linestyle='-', color='orange')\n",
    "plt.xlabel('Year')\n",
    "plt.ylabel('Average Price (USD)')\n",
    "plt.title('Average Price Trend Over Years')\n",
    "plt.grid(ls='dotted')\n",
    "plt.savefig('dashboards/Average_Price.png', bbox_inches='tight')\n",
    "plt.show()"
   ]
  },
  {
   "cell_type": "markdown",
   "id": "e1015ef9",
   "metadata": {},
   "source": [
    "Sales Distribution by Fuel Type"
   ]
  },
  {
   "cell_type": "code",
   "execution_count": null,
   "id": "1fcb888b",
   "metadata": {},
   "outputs": [],
   "source": [
    "fuel_type_sales = df.groupby('Fuel_Type')['Total_Sales_Volume'].sum().sort_values(ascending=False)\n",
    "plt.figure(figsize=(10,6))\n",
    "\n",
    "plt.pie(fuel_type_sales.values, labels=fuel_type_sales.index, explode=[0.05]*len(fuel_type_sales),\n",
    "        autopct='%1.1f%%', startangle=10, colors=['#66b3ff', '#99ff99', '#ffcc99', '#ff6666', \"#ce9898\"],\n",
    "        shadow=True)\n",
    "plt.title('Sales Distribution by Fuel Type')\n",
    "plt.axis('equal')\n",
    "plt.savefig('dashboards/Type_sales.png', bbox_inches='tight')\n",
    "plt.show()"
   ]
  }
 ],
 "metadata": {
  "kernelspec": {
   "display_name": "myenv",
   "language": "python",
   "name": "python3"
  },
  "language_info": {
   "codemirror_mode": {
    "name": "ipython",
    "version": 3
   },
   "file_extension": ".py",
   "mimetype": "text/x-python",
   "name": "python",
   "nbconvert_exporter": "python",
   "pygments_lexer": "ipython3",
   "version": "3.13.5"
  }
 },
 "nbformat": 4,
 "nbformat_minor": 5
}
